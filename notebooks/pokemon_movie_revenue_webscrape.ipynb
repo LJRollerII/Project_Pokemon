{
 "cells": [
  {
   "cell_type": "code",
   "execution_count": null,
   "id": "5c1f808a",
   "metadata": {},
   "outputs": [],
   "source": [
    "import requests\n",
    "import time\n",
    "import datetime\n",
    "from bs4 import BeautifulSoup\n",
    "import smtplib\n",
    "import csv\n",
    "import pandas as pd"
   ]
  },
  {
   "cell_type": "code",
   "execution_count": null,
   "id": "21d52bdc",
   "metadata": {},
   "outputs": [],
   "source": [
    "URL = 'https://en.wikipedia.org/wiki/List_of_Pok%C3%A9mon_films'\n",
    "tables = pd.read_html(URL)"
   ]
  },
  {
   "cell_type": "code",
   "execution_count": null,
   "id": "2ca0d04c",
   "metadata": {
    "scrolled": true
   },
   "outputs": [],
   "source": [
    "tables[0]"
   ]
  },
  {
   "cell_type": "code",
   "execution_count": null,
   "id": "37eea999",
   "metadata": {},
   "outputs": [],
   "source": [
    "movies = pd.DataFrame(tables[0])\n",
    "movies.head(3)"
   ]
  },
  {
   "cell_type": "code",
   "execution_count": null,
   "id": "74ce2508",
   "metadata": {},
   "outputs": [],
   "source": [
    "tables[1]"
   ]
  },
  {
   "cell_type": "code",
   "execution_count": null,
   "id": "d1bd6584",
   "metadata": {},
   "outputs": [],
   "source": [
    "live_films = pd.DataFrame(tables[1])\n",
    "live_films.head()"
   ]
  },
  {
   "cell_type": "code",
   "execution_count": null,
   "id": "72014c36",
   "metadata": {},
   "outputs": [],
   "source": [
    "tables[2]"
   ]
  },
  {
   "cell_type": "code",
   "execution_count": null,
   "id": "d1a6a187",
   "metadata": {},
   "outputs": [],
   "source": [
    "feature_films = pd.DataFrame(tables[2])\n",
    "feature_films.head(3)"
   ]
  },
  {
   "cell_type": "code",
   "execution_count": null,
   "id": "47f51535",
   "metadata": {},
   "outputs": [],
   "source": [
    "tables[3]"
   ]
  },
  {
   "cell_type": "code",
   "execution_count": null,
   "id": "7e0af163",
   "metadata": {},
   "outputs": [],
   "source": [
    "live_film_info = pd.DataFrame(tables[3])\n",
    "live_film_info.head()"
   ]
  },
  {
   "cell_type": "code",
   "execution_count": null,
   "id": "811e38dc",
   "metadata": {},
   "outputs": [],
   "source": [
    "tables[4]"
   ]
  },
  {
   "cell_type": "code",
   "execution_count": null,
   "id": "2c5a2b90",
   "metadata": {
    "scrolled": false
   },
   "outputs": [],
   "source": [
    "home_videos = pd.DataFrame(tables[4])\n",
    "home_videos.head(3)"
   ]
  },
  {
   "cell_type": "code",
   "execution_count": null,
   "id": "d63c79ce",
   "metadata": {},
   "outputs": [],
   "source": [
    "tables[5]"
   ]
  },
  {
   "cell_type": "code",
   "execution_count": null,
   "id": "833e5c05",
   "metadata": {},
   "outputs": [],
   "source": [
    "animated_film_bo = pd.DataFrame(tables[5])\n",
    "animated_film_bo.head(3)"
   ]
  },
  {
   "cell_type": "code",
   "execution_count": null,
   "id": "606cdb84",
   "metadata": {},
   "outputs": [],
   "source": [
    "tables[6]"
   ]
  },
  {
   "cell_type": "code",
   "execution_count": null,
   "id": "bffdcafb",
   "metadata": {},
   "outputs": [],
   "source": [
    "live_film_bo = pd.DataFrame(tables[6])\n",
    "live_film_bo.head(3)"
   ]
  },
  {
   "cell_type": "code",
   "execution_count": null,
   "id": "dfb33bff",
   "metadata": {},
   "outputs": [],
   "source": [
    "tables[7]"
   ]
  },
  {
   "cell_type": "code",
   "execution_count": null,
   "id": "1f7338e2",
   "metadata": {},
   "outputs": [],
   "source": [
    "critical_reception= pd.DataFrame(tables[7])\n",
    "critical_reception.head(3)"
   ]
  },
  {
   "cell_type": "code",
   "execution_count": null,
   "id": "ae325f13",
   "metadata": {},
   "outputs": [],
   "source": [
    "xlwriter = pd.ExcelWriter('pokemon_films.xlsx')  \n",
    "movies.to_excel(xlwriter, sheet_name='Movies')\n",
    "live_films.to_excel(xlwriter, sheet_name='Live_Films')\n",
    "feature_films.to_excel(xlwriter, sheet_name='Feature_Films')\n",
    "live_film_info.to_excel(xlwriter, sheet_name='Live_Film_Info')\n",
    "home_videos.to_excel(xlwriter, sheet_name='Home_Videos')\n",
    "animated_film_bo.to_excel(xlwriter, sheet_name='Animated_Films_Box_Office')\n",
    "live_film_bo.to_excel(xlwriter, sheet_name='Live_Film_Box_Office')\n",
    "critical_reception.to_excel(xlwriter, sheet_name='Critical_Reception')\n",
    "xlwriter.close()"
   ]
  }
 ],
 "metadata": {
  "kernelspec": {
   "display_name": "Python 3 (ipykernel)",
   "language": "python",
   "name": "python3"
  },
  "language_info": {
   "codemirror_mode": {
    "name": "ipython",
    "version": 3
   },
   "file_extension": ".py",
   "mimetype": "text/x-python",
   "name": "python",
   "nbconvert_exporter": "python",
   "pygments_lexer": "ipython3",
   "version": "3.9.7"
  }
 },
 "nbformat": 4,
 "nbformat_minor": 5
}
