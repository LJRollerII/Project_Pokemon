{
 "cells": [
  {
   "cell_type": "code",
   "execution_count": null,
   "id": "dff8c219",
   "metadata": {},
   "outputs": [],
   "source": [
    "import requests\n",
    "import time\n",
    "import datetime\n",
    "from bs4 import BeautifulSoup\n",
    "import smtplib\n",
    "import csv\n",
    "import pandas as pd"
   ]
  },
  {
   "cell_type": "code",
   "execution_count": null,
   "id": "04efb390",
   "metadata": {},
   "outputs": [],
   "source": [
    "URL = 'https://vgsales.fandom.com/wiki/Pok%C3%A9mon'\n",
    "tables = pd.read_html(URL)"
   ]
  },
  {
   "cell_type": "code",
   "execution_count": null,
   "id": "feda4ca1",
   "metadata": {
    "scrolled": true
   },
   "outputs": [],
   "source": [
    "tables[0]"
   ]
  },
  {
   "cell_type": "code",
   "execution_count": null,
   "id": "3f8258b2",
   "metadata": {},
   "outputs": [],
   "source": [
    "ms_vg_sales = pd.DataFrame(tables[0])\n",
    "ms_vg_sales.head(3)"
   ]
  },
  {
   "cell_type": "code",
   "execution_count": null,
   "id": "8a17599e",
   "metadata": {
    "scrolled": false
   },
   "outputs": [],
   "source": [
    "tables[1]"
   ]
  },
  {
   "cell_type": "code",
   "execution_count": null,
   "id": "198517ac",
   "metadata": {},
   "outputs": [],
   "source": [
    "so_vg_sales = pd.DataFrame(tables[1])\n",
    "so_vg_sales.head(3)"
   ]
  },
  {
   "cell_type": "code",
   "execution_count": null,
   "id": "083c1583",
   "metadata": {},
   "outputs": [],
   "source": [
    "tables[2]"
   ]
  },
  {
   "cell_type": "code",
   "execution_count": null,
   "id": "eb88d908",
   "metadata": {},
   "outputs": [],
   "source": [
    "mobile_vg_sales = pd.DataFrame(tables[2])\n",
    "mobile_vg_sales"
   ]
  },
  {
   "cell_type": "code",
   "execution_count": null,
   "id": "03c39f7a",
   "metadata": {},
   "outputs": [],
   "source": [
    "tables[3]"
   ]
  },
  {
   "cell_type": "code",
   "execution_count": null,
   "id": "1da61027",
   "metadata": {},
   "outputs": [],
   "source": [
    "fr_vg_sales = pd.DataFrame(tables[3])\n",
    "fr_vg_sales.head(3)"
   ]
  },
  {
   "cell_type": "code",
   "execution_count": null,
   "id": "93212c29",
   "metadata": {
    "scrolled": true
   },
   "outputs": [],
   "source": [
    "xlwriter = pd.ExcelWriter('pokemon_vg_sales.xlsx')  \n",
    "ms_vg_sales.to_excel(xlwriter, sheet_name='Main_Series')\n",
    "so_vg_sales.to_excel(xlwriter, sheet_name='Spin_Offs')\n",
    "mobile_vg_sales.to_excel(xlwriter, sheet_name='Mobile')\n",
    "fr_vg_sales.to_excel(xlwriter, sheet_name='Franchise_Revenue')\n",
    "xlwriter.close()"
   ]
  },
  {
   "cell_type": "code",
   "execution_count": null,
   "id": "02cc9021",
   "metadata": {},
   "outputs": [],
   "source": []
  }
 ],
 "metadata": {
  "kernelspec": {
   "display_name": "Python 3 (ipykernel)",
   "language": "python",
   "name": "python3"
  },
  "language_info": {
   "codemirror_mode": {
    "name": "ipython",
    "version": 3
   },
   "file_extension": ".py",
   "mimetype": "text/x-python",
   "name": "python",
   "nbconvert_exporter": "python",
   "pygments_lexer": "ipython3",
   "version": "3.9.7"
  }
 },
 "nbformat": 4,
 "nbformat_minor": 5
}
